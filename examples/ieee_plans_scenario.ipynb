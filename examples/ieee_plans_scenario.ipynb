{
 "cells": [
  {
   "cell_type": "code",
   "execution_count": null,
   "metadata": {},
   "outputs": [],
   "source": [
    "from math import tau\n",
    "import numpy as np\n",
    "import polars as pl\n",
    "\n",
    "from rtsim import Axis, Body, Frame, Mount, Testbed, World, ConstantPVA, TimePVA\n",
    "\n",
    "import matplotlib.pyplot as plt\n",
    "plt.rc('text', usetex=True)\n",
    "plt.rc('text.latex',\n",
    "       preamble='\\n'.join([r'\\usepackage{siunitx}',\n",
    "                           r'\\usepackage{amsmath}',\n",
    "                           r'\\DeclareSIUnit{\\gravity}{\\textsl{g}}']))\n",
    "plt.rc('font', **{'family': 'garamond', 'size': 8})\n",
    "plt.rcParams['xtick.labelsize'] = 8\n",
    "plt.rcParams['ytick.labelsize'] = 8\n"
   ]
  },
  {
   "cell_type": "code",
   "execution_count": null,
   "metadata": {},
   "outputs": [],
   "source": [
    "def wrap360(angle: float) -> float:\n",
    "    \"\"\"\n",
    "    Wrap angle around 360 degrees.\n",
    "\n",
    "    :param angle: Angle to wrap, degrees\n",
    "    :type angle: float\n",
    "    :return: Wrapped angle, degrees\n",
    "    :rtype: float\n",
    "    \"\"\"\n",
    "    return ((angle % 360) + 360) % 360\n"
   ]
  },
  {
   "cell_type": "code",
   "execution_count": null,
   "metadata": {},
   "outputs": [],
   "source": [
    "def create_axis(amp: float, ws: int, wd: int, time: np.ndarray, starts: list[int]) -> tuple:\n",
    "    \"\"\"\n",
    "    Create an axis dataset.\n",
    "\n",
    "    :param amp: Amplitude of the angular acceleration pulse, degree/s/s.\n",
    "    :type amp: float\n",
    "    :param ws: Width of the angular rate pulse, ms.\n",
    "    :type ws: int\n",
    "    :param wd: Width of the angular acceleration pulse, ms.\n",
    "    :type wd: int\n",
    "    :param time: Time array of data.\n",
    "    :type time: np.ndarray\n",
    "    :param starts: Start times of each angular rate pulse, ms.\n",
    "    :type starts: list[int]\n",
    "    :return: Tuple of angular positions, rates, and accelerations.\n",
    "    :rtype: tuple\n",
    "    \"\"\"\n",
    "    theta = np.zeros_like(time)\n",
    "    omega = np.zeros_like(time)\n",
    "    omdot = np.zeros_like(time)\n",
    "\n",
    "    for start in starts:\n",
    "        i1 = np.where((time >= start) & (time <= start+wd))[0]\n",
    "        i2 = np.where((time >= start+ws) & (time <= start+ws+wd))[0]\n",
    "        i3 = np.where((time >= start-1) & (time <= start+ws+wd+1))[0]\n",
    "\n",
    "        omdot[i1] = dh\n",
    "        omdot[i2] = -dh\n",
    "        omega[i3] = np.cumsum(omdot[i3]) * 1e-3\n",
    "        theta[i3] = wrap360(np.cumsum(omega[i3]) * 1e-3)\n",
    "\n",
    "    return theta, omega, omdot\n"
   ]
  },
  {
   "cell_type": "code",
   "execution_count": null,
   "metadata": {},
   "outputs": [],
   "source": [
    "dh = 100.\n",
    "ws = 72000\n",
    "wd = 600\n",
    "\n",
    "time = np.arange(0, 600001)\n",
    "\n",
    "ti, wi, di = create_axis(dh, ws, wd, time, [ 14_723, 249_423, 328_479, 484_054])\n",
    "tm, wm, dm = create_axis(dh, ws, wd, time, [ 93_115, 249_423, 406_311, 484_054])\n",
    "to, wo, do = create_axis(dh, ws, wd, time, [171_200, 328_479, 406_311, 484_054])\n",
    "\n",
    "data = pl.DataFrame(\n",
    "    {\n",
    "        'time': time,\n",
    "        'ti': ti * tau / 360,\n",
    "        'tm': tm * tau / 360,\n",
    "        'to': to * tau / 360,\n",
    "        'wi': wi * tau / 360,\n",
    "        'wm': wm * tau / 360,\n",
    "        'wo': wo * tau / 360,\n",
    "        'di': di * tau / 360,\n",
    "        'dm': dm * tau / 360,\n",
    "        'do': do * tau / 360,\n",
    "    }\n",
    ")\n"
   ]
  },
  {
   "cell_type": "code",
   "execution_count": null,
   "metadata": {},
   "outputs": [],
   "source": [
    "world = World('Terra', 6378137.0, 298.257223563, 7.2921150E-5)"
   ]
  },
  {
   "cell_type": "code",
   "execution_count": null,
   "metadata": {},
   "outputs": [],
   "source": [
    "outer = Axis(\n",
    "    \"Outer\",\n",
    "    Frame(\n",
    "        linear=ConstantPVA(\n",
    "            p=np.zeros((3, 1)),\n",
    "            v=np.zeros((3, 1)),\n",
    "            a=np.zeros((3, 1)),\n",
    "        ),\n",
    "        angular=ConstantPVA(\n",
    "            p=np.array([[0.], [0.], [0.]]),\n",
    "            v=np.zeros((3, 1)),\n",
    "            a=np.zeros((3, 1)),\n",
    "        )\n",
    "    )\n",
    ")\n"
   ]
  },
  {
   "cell_type": "code",
   "execution_count": null,
   "metadata": {},
   "outputs": [],
   "source": [
    "middle = Axis(\n",
    "    \"Middle\",\n",
    "    Frame(\n",
    "        linear=ConstantPVA(\n",
    "            p=np.zeros((3, 1)),\n",
    "            v=np.zeros((3, 1)),\n",
    "            a=np.zeros((3, 1)),\n",
    "        ),\n",
    "        angular=ConstantPVA(\n",
    "            p=np.array([[0.], [tau/4], [0.]]),\n",
    "            v=np.zeros((3, 1)),\n",
    "            a=np.zeros((3, 1)),\n",
    "        )\n",
    "    )\n",
    ")\n"
   ]
  },
  {
   "cell_type": "code",
   "execution_count": null,
   "metadata": {},
   "outputs": [],
   "source": [
    "inner = Axis(\n",
    "    \"Inner\",\n",
    "    Frame(\n",
    "        linear=ConstantPVA(\n",
    "            p=np.array([[-0.1524], [0.], [0.]]),\n",
    "            v=np.zeros((3, 1)),\n",
    "            a=np.zeros((3, 1)),\n",
    "        ),\n",
    "        angular=ConstantPVA(\n",
    "            p=np.array([[0.], [tau/4], [0.]]),\n",
    "            v=np.zeros((3, 1)),\n",
    "            a=np.zeros((3, 1)),\n",
    "        )\n",
    "    )\n",
    ")\n"
   ]
  },
  {
   "cell_type": "code",
   "execution_count": null,
   "metadata": {},
   "outputs": [],
   "source": [
    "mount = Mount(\n",
    "    \"Mount\",\n",
    "    Frame(\n",
    "        linear=ConstantPVA(\n",
    "            p=np.array([[0.3284], [0.], [0.]]),\n",
    "            v=np.zeros((3, 1)),\n",
    "            a=np.zeros((3, 1)),\n",
    "        ),\n",
    "        angular=ConstantPVA(\n",
    "            p=np.array([[0.], [-tau/4], [0.]]),\n",
    "            v=np.zeros((3, 1)),\n",
    "            a=np.zeros((3, 1)),\n",
    "        )\n",
    "    )\n",
    ")\n"
   ]
  },
  {
   "cell_type": "code",
   "execution_count": null,
   "metadata": {},
   "outputs": [],
   "source": [
    "body = Body(\n",
    "    \"UUT\",\n",
    "    Frame(\n",
    "        linear=ConstantPVA(\n",
    "            p=np.array([[0.0164], [0.], [0.]]),\n",
    "            v=np.zeros((3, 1)),\n",
    "            a=np.zeros((3, 1)),\n",
    "        ),\n",
    "        angular=ConstantPVA(\n",
    "            p=np.array([[tau/4], [0.], [0.]]),\n",
    "            v=np.zeros((3, 1)),\n",
    "            a=np.zeros((3, 1)),\n",
    "        )\n",
    "    )\n",
    ")\n"
   ]
  },
  {
   "cell_type": "code",
   "execution_count": null,
   "metadata": {},
   "outputs": [],
   "source": [
    "testbed = Testbed(\n",
    "    \"TART\",\n",
    "    llhg=(35.051339, -106.545044, 1630., 9.7920631997),\n",
    "    components=(world, [inner, middle, outer], mount, body)\n",
    ")\n"
   ]
  },
  {
   "cell_type": "code",
   "execution_count": null,
   "metadata": {},
   "outputs": [],
   "source": [
    "misalignments = [Frame(\n",
    "    linear=TimePVA(\n",
    "        p=np.zeros((data.shape[0], 3, 1)),\n",
    "        v=np.zeros((data.shape[0], 3, 1)),\n",
    "        a=np.zeros((data.shape[0], 3, 1)),\n",
    "    ),\n",
    "    angular=TimePVA(\n",
    "        p=np.zeros((data.shape[0], 3, 1)),\n",
    "        v=np.zeros((data.shape[0], 3, 1)),\n",
    "        a=np.zeros((data.shape[0], 3, 1)),\n",
    "    )\n",
    ")]*3\n"
   ]
  },
  {
   "cell_type": "code",
   "execution_count": null,
   "metadata": {},
   "outputs": [],
   "source": [
    "rotations = []\n",
    "for axis in [\"i\", \"m\", \"o\"]:\n",
    "    theta = np.zeros((data.shape[0], 3, 1))\n",
    "    omega = np.zeros((data.shape[0], 3, 1))\n",
    "    omega_dot = np.zeros((data.shape[0], 3, 1))\n",
    "\n",
    "    theta[:, 2, 0] = data[f\"t{axis}\"].to_numpy()\n",
    "    omega[:, 2, 0] = data[f\"w{axis}\"].to_numpy()\n",
    "    omega_dot[:, 2, 0] = data[f\"d{axis}\"].to_numpy()\n",
    "\n",
    "    rotations.append(\n",
    "        Frame(\n",
    "            linear=ConstantPVA(\n",
    "                p=np.zeros((3, 1)),\n",
    "                v=np.zeros((3, 1)),\n",
    "                a=np.zeros((3, 1)),\n",
    "            ),\n",
    "            angular=TimePVA(\n",
    "                p=theta,\n",
    "                v=omega,\n",
    "                a=omega_dot,\n",
    "            )\n",
    "        )\n",
    "    )\n"
   ]
  },
  {
   "cell_type": "code",
   "execution_count": null,
   "metadata": {},
   "outputs": [],
   "source": [
    "testbed.process(\n",
    "    time=data['time'].to_numpy(),\n",
    "    misalignments=misalignments,\n",
    "    rotations=rotations,\n",
    ")\n"
   ]
  },
  {
   "cell_type": "code",
   "execution_count": null,
   "metadata": {},
   "outputs": [],
   "source": [
    "result = pl.DataFrame(\n",
    "    {\n",
    "        'time': testbed.time,\n",
    "        'fx': testbed.sfbib[:, 0, 0],\n",
    "        'fy': testbed.sfbib[:, 1, 0],\n",
    "        'fz': testbed.sfbib[:, 2, 0],\n",
    "        'wx': testbed.avbib[:, 0, 0],\n",
    "        'wy': testbed.avbib[:, 1, 0],\n",
    "        'wz': testbed.avbib[:, 2, 0],\n",
    "    }\n",
    ")\n"
   ]
  },
  {
   "cell_type": "code",
   "execution_count": null,
   "metadata": {},
   "outputs": [],
   "source": [
    "fig, axs = plt.subplots(3, 1, figsize=(7, 6))\n",
    "axs[0].plot(result[\"time\"]/1e3, result[\"fx\"]/9.80665)\n",
    "axs[1].plot(result[\"time\"]/1e3, result[\"fy\"]/9.80665)\n",
    "axs[2].plot(result[\"time\"]/1e3, result[\"fz\"]/9.80665)\n",
    "\n",
    "for ax, axi in zip(axs[:2], [\"x\", \"y\"], strict=True):\n",
    "    ax.set(ylabel=fr\"$f_{axi},\\ \\unit{{\\gravity}}$\", ylim=[-1.2, 1.2], xticklabels=[])\n",
    "    ax.grid(alpha=0.2)\n",
    "    ax.spines[:].set_visible(False)\n",
    "\n",
    "axs[1].spines[\"top\"].set_visible(True)\n",
    "axs[2].set(xlabel=r'Elapsed Time, \\unit{\\second}', ylabel=r\"$f_z,\\ \\unit{{\\gravity}}$\", ylim=[-1.2, 1.2])\n",
    "axs[2].grid(alpha=0.2)\n",
    "axs[2].spines[[\"left\", \"right\", \"bottom\"]].set_visible(False)\n",
    "\n",
    "fig.subplots_adjust(wspace=0, hspace=0)\n"
   ]
  },
  {
   "cell_type": "code",
   "execution_count": null,
   "metadata": {},
   "outputs": [],
   "source": [
    "fig, axs = plt.subplots(3, 1, figsize=(7, 6))\n",
    "axs[0].plot(result[\"time\"]/1e3, result[\"wx\"])\n",
    "axs[1].plot(result[\"time\"]/1e3, result[\"wy\"])\n",
    "axs[2].plot(result[\"time\"]/1e3, result[\"wz\"])\n",
    "\n",
    "for ax, axi in zip(axs[:2], [\"x\", \"y\"], strict=True):\n",
    "    ax.set(ylabel=fr\"$\\omega_{axi},\\ \\unit{{\\radian/\\second}}$\", ylim=[-1.2, 1.2], xticklabels=[])\n",
    "    ax.grid(alpha=0.2)\n",
    "    ax.spines[:].set_visible(False)\n",
    "\n",
    "axs[1].spines[\"top\"].set_visible(True)\n",
    "axs[2].set(xlabel=r'Elapsed Time, \\unit{\\second}', ylabel=r\"$\\omega_z,\\ \\unit{{\\radian/\\second}}$\", ylim=[-1.2, 1.2])\n",
    "axs[2].grid(alpha=0.2)\n",
    "axs[2].spines[[\"left\", \"right\", \"bottom\"]].set_visible(False)\n",
    "\n",
    "fig.subplots_adjust(wspace=0, hspace=0)\n"
   ]
  }
 ],
 "metadata": {
  "kernelspec": {
   "display_name": ".venv",
   "language": "python",
   "name": "python3"
  },
  "language_info": {
   "codemirror_mode": {
    "name": "ipython",
    "version": 3
   },
   "file_extension": ".py",
   "mimetype": "text/x-python",
   "name": "python",
   "nbconvert_exporter": "python",
   "pygments_lexer": "ipython3",
   "version": "3.12.8"
  }
 },
 "nbformat": 4,
 "nbformat_minor": 2
}
